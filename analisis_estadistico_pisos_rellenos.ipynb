{
 "cells": [
  {
   "cell_type": "markdown",
   "id": "23f5afb5-8396-43f9-aa5d-33940af96a38",
   "metadata": {},
   "source": [
    "# Análisis Estadístico de Características del Suelo en el Montículo M01, Nuevo Corinto\r\n",
    "\r\n",
    "## Descripción del Código\r\n",
    "\r\n",
    "Este código realiza un análisis estadístico para comparar diferentes características del suelo entre niveles etiquetados como \"Piso\" y \"Relleno\" en una excavación arqueológica relacionada con el Montículo M01 del sitio Nuevo Corinto, Costa Rica. Estos análisis se realizan en el marco del proyecto de tesis del **Posgrado en Antropología de la Universidad de Costa Rica**, enfocado en la **resiliencia socioecológica** y el **uso de sistemas agroforestales** en contextos arqueológicos.\r\n",
    "\r\n",
    "## Prueba t de Student\r\n",
    "\r\n",
    "La prueba t-Student para una muestra es una técnica utilizada para determinar si la media de una muestra es estadísticamente diferente de una media poblacional conocida o hipotética. Esta prueba se utiliza cuando la población no sigue una distribución normal o cuando el tamaño de la muestra es pequeño. En este análisis, la prueba t se emplea para comparar diferentes índices entre los contextos de \"Piso\" y \"Relleno\" con el fin de validar si los niveles marcados como \"Piso\" presentan características significativamente distintas.\r\n",
    "\r\n",
    "## Pasos del Código\r\n",
    "\r\n",
    "### 1. Importación de Librerías\r\n",
    "- **`pandas`**: Para manejar y analizar los datos en formato de tabla (DataFrame).\r\n",
    "- **`ttest_ind` de `scipy.stats`**: Para realizar la prueba t de Student y comparar las medias de dos muestras independientes.\r\n",
    "\r\n",
    "### 2. Definición de los Datos\r\n",
    "Se crea un diccionario `data_nueva` que contiene la información de las muestras de suelo obtenidas del Montículo M01, incluyendo:\r\n",
    "\r\n",
    "- **Número de muestra**: Identificación de la muestra.\r\n",
    "- **Nivel (cm.b.s.)**: Profundidad de la muestra.\r\n",
    "- **Contexto**: Clasificación del contexto como \"Piso\" o \"Relleno\".\r\n",
    "- **Peso húmedo (g)**: Peso de la muestra en estado húmedo.\r\n",
    "- **Peso seco (g)**: Peso de la muestra tras secado.\r\n",
    "- **Peso perdido (g)**: Diferencia entre el peso húmedo y seco.\r\n",
    "- **Peso perdido (%)**: Porcentaje de peso perdido durante el secado.\r\n",
    "- **pH**: Nivel de acidez o alcalinidad del suelo.\r\n",
    "- **Textura**: Descripción de la textura del suelo.\r\n",
    "\r\n",
    "Estos datos se convierten en un `DataFrame` usando `pandas`, que es una estructura de datos bidimensional similar a una hoja de cálculo.\r\n",
    "\r\n",
    "### 3. Separación de Datos por Contexto\r\n",
    "El `DataFrame` se divide en dos subconjuntos:\r\n",
    "\r\n",
    "- **Pisos** (`pisos`): Contiene los datos de los niveles identificados como \"Piso\".\r\n",
    "- **Rellenos** (`rellenos`): Contiene los datos de los niveles identificados como \"Relleno\".\r\n",
    "\r\n",
    "### 4. Pruebas t de Student\r\n",
    "Se realizan varias pruebas t de Student (`ttest_ind`) para comparar las siguientes variables entre los niveles de \"Piso\" y \"Relleno\":\r\n",
    "\r\n",
    "- **Peso perdido (%)**: Se compara el porcentaje de peso perdido entre los niveles de \"Piso\" y \"Relleno\".\r\n",
    "- **Peso húmedo (g)**: Se compara el peso húmedo entre los niveles de \"Piso\" y \"Relleno\".\r\n",
    "- **Peso seco (g)**: Se compara el peso seco entre los niveles de \"Piso\" y \"Relleno\".\r\n",
    "- **Índice Arbóreo/ No Arbóreo**: Se compara este índice para identificar diferencias en la vegetación entre los niveles de \"Piso\" y \"Relleno\".\r\n",
    "\r\n",
    "En cada caso, se utiliza `equal_var=False` para permitir que las varianzas de las dos muestras sean diferentes.\r\n",
    "\r\n",
    "### 5. Impresión de Resultados\r\n",
    "Finalmente, los resultados de las pruebas t de Student se imprimen en la consola. Cada resultado incluye:\r\n",
    "\r\n",
    "- **Valor t**: Mide la magnitud de la diferencia entre las dos medias.\r\n",
    "- **Valor p**: Indica si hay una diferencia estadísticamente significativa entre los niveles de \"Piso\" y \"Relleno\". Un valor p bajo (generalmente < 0.05) sugiere que la diferencia es significativa.\r\n",
    "\r\n",
    "### 6. Interpretación de Resultados\r\n",
    "\r\n",
    "La interpretación de los resultados se centra en determinar si existen diferencias significativas en las características del suelo entre los niveles \"Piso\" y \"Relleno\". Un valor p bajo indicaría que los niveles \"Piso\" tienen características que los diferencian significativamente de los niveles de \"Relleno\", lo que podría apoyar la hipótesis de que estos niveles corresponden a verdaderos pisos y no a simples rellenos.\r\n",
    "\r\n",
    "## Contexto del Análisis\r\n",
    "\r\n",
    "Este análisis es crucial para validar si los niveles marcados como \"Piso\" realmente tienen características que los diferencien de manera significativa de los niveles de \"Relleno\". Los resultados de este análisis ofrecerán insights importantes sobre la formación del sitio y las prácticas humanas relacionadas con la ocupación y uso del Montículo M01 en Nuevo Corinto. Esto ayudará a confirmar o cuestionar la clasificación actual de estos niveles dentro del contexto arqueológico del sitio.\r\n",
    "\r\n",
    "## Estudiante\r\n",
    "\r\n",
    "**Adonis Gamboa Sandi**\r\n",
    "\r\n",
    "- **Contacto personal**: [adonis.gamboa.sandi@gmail.com](mailto:adonis.gamboa.sandi@gmail.com)\r\n",
    "- **Contacto institucional**: [adonis.gamboa@ucr.ac.cr](mailto:adonis.gamboa@ucr.ac.cr)\r\n",
    "nis.gamboa@ucr.ac.cr](mailto:adonis.gamboa@ucr.ac.cr)\r\n",
    "\n"
   ]
  },
  {
   "cell_type": "code",
   "execution_count": 6,
   "id": "e463d500-603e-4778-9250-fa607967ab09",
   "metadata": {},
   "outputs": [],
   "source": [
    "import pandas as pd\n",
    "from scipy.stats import ttest_ind\n",
    "\n",
    "# Datos de la tabla\n",
    "data_nueva = {\n",
    "    \"Muestra No.\": [\"M1\", \"M2\", \"M3\", \"M4\", \"M5\", \"M6\", \"M7\", \"M8\", \"M9\", \"M10\", \"M11\", \"M12\", \"M13\", \"M14\", \"M15\", \"M16\"],\n",
    "    \"Nivel (cm.b.s.)\": [50, 60, 70, 80, 90, 100, 110, 120, 130, 140, 150, 160, 170, 180, 190, 200],\n",
    "    \"Contexto\": [\"Relleno\", \"Relleno\", \"Relleno\", \"Piso\", \"Relleno\", \"Relleno\", \"Piso\", \"Relleno\", \"Relleno\", \"Relleno\", \"Piso\", \"Relleno\", \"Relleno\", \"Relleno\", \"Relleno\", \"Relleno\"],\n",
    "    \"Peso húmedo (g)\": [108.7, 122.7, 134.8, 157.5, 156.6, 145.5, 178.7, 500.5, 464.8, 369.1, 371.2, 386.8, 379.4, 357.8, 260.4, 233],\n",
    "    \"Peso seco (g)\": [66.5, 73.4, 97.5, 107.5, 112.2, 101.8, 125.2, 356.8, 331.6, 264.7, 225.3, 255.3, 262.7, 251.2, 178.6, 163.9],\n",
    "    \"Peso perdido (g)\": [42.2, 49.3, 37.3, 50, 44.4, 43.7, 53.5, 143.7, 133.2, 104.4, 145.9, 133.3, 116.7, 106.6, 81.8, 69.1],\n",
    "    \"Peso perdido (%)\": [38.8, 40.2, 27.7, 29.3, 28.4, 30, 29.9, 28.7, 28.7, 28.3, 39.3, 34.3, 30.8, 29.8, 31.4, 29.7],\n",
    "    \"pH\": [5, 5, 5, 5, 5, 5, 5, 5, 5, 5, 5, 5, 5, 5, 5, 5],\n",
    "    \"Textura\": [\n",
    "        \"arcillosa, levemente limosa\", \n",
    "        \"arcillosa, levemente limosa\", \n",
    "        \"arcillo-arenosa *cambio de textura\", \n",
    "        \"arcillo-arenosa\", \n",
    "        \"arcillo-arenosa\", \n",
    "        \"levemente arenosa *cambio de textura\", \n",
    "        \"arcillosa, levemente arenosa\", \n",
    "        \"arcillosa, levemente arenosa\", \n",
    "        \"arcillo-arenosa\", \n",
    "        \"arcillo-arenosa\", \n",
    "        \"arcillosa, levemente limosa\", \n",
    "        \"arcillosa, levemente limosa\", \n",
    "        \"arcillosa, levemente limosa\", \n",
    "        \"arcillosa, levemente limosa\", \n",
    "        \"Arcillo-arenosa\", \n",
    "        \"Arcillo-arenosa\"\n",
    "    ]\n",
    "}\n",
    "\n"
   ]
  },
  {
   "cell_type": "code",
   "execution_count": 7,
   "id": "9685afeb-67b9-49e2-a12f-5c20b83ea0eb",
   "metadata": {},
   "outputs": [],
   "source": [
    "# Crear el DataFrame\n",
    "df_nueva = pd.DataFrame(data_nueva)\n",
    "\n",
    "# Separar los datos en función del contexto (Piso vs Relleno)\n",
    "pisos = df_nueva[df_nueva[\"Contexto\"] == \"Piso\"]\n",
    "rellenos = df_nueva[df_nueva[\"Contexto\"] == \"Relleno\"]\n",
    "\n",
    "# Comparar el Peso perdido (%) entre Pisos y Rellenos usando una prueba t de Student\n",
    "ttest_peso_perdido = ttest_ind(pisos[\"Peso perdido (%)\"], rellenos[\"Peso perdido (%)\"], equal_var=False)\n",
    "\n",
    "# Comparar el Peso húmedo entre Pisos y Rellenos usando una prueba t de Student\n",
    "ttest_peso_humedo = ttest_ind(pisos[\"Peso húmedo (g)\"], rellenos[\"Peso húmedo (g)\"], equal_var=False)\n",
    "\n",
    "# Comparar el Peso seco entre Pisos y Rellenos usando una prueba t de Student\n",
    "ttest_peso_seco = ttest_ind(pisos[\"Peso seco (g)\"], rellenos[\"Peso seco (g)\"], equal_var=False)\n",
    "\n"
   ]
  },
  {
   "cell_type": "code",
   "execution_count": 8,
   "id": "3a8a35bc-0b23-47de-b053-3dd1e9c3706a",
   "metadata": {},
   "outputs": [
    {
     "name": "stdout",
     "output_type": "stream",
     "text": [
      "t-test Peso perdido (%): TtestResult(statistic=0.44984784211266016, pvalue=0.6888991512051935, df=2.499696236241018)\n",
      "t-test Peso húmedo (g): TtestResult(statistic=-0.5468017969724212, pvalue=0.6182394780970175, df=3.4158211371138893)\n",
      "t-test Peso seco (g): TtestResult(statistic=-0.891073373165616, pvalue=0.4165819778136581, df=4.652991701490696)\n"
     ]
    }
   ],
   "source": [
    "# Mostrar los resultados\n",
    "print(\"t-test Peso perdido (%):\", ttest_peso_perdido)\n",
    "print(\"t-test Peso húmedo (g):\", ttest_peso_humedo)\n",
    "print(\"t-test Peso seco (g):\", ttest_peso_seco)"
   ]
  },
  {
   "cell_type": "markdown",
   "id": "a7837894-2d6f-46cc-a98b-2218f0a82902",
   "metadata": {},
   "source": [
    "# Interpretación de Resultados de Pruebas t de Student\n",
    "\n",
    "Este segmento de código está diseñado para ayudarte a interpretar los resultados de las pruebas t de Student de manera más clara y efectiva. \n",
    "\n",
    "## Función `interpretar_resultados_ttest`\n",
    "\n",
    "La función `interpretar_resultados_ttest` se encarga de proporcionar una interpretación simple de los resultados obtenidos de las pruebas t. A continuación se describe su funcionamiento:\n",
    "\n",
    "- **Parámetros:**\n",
    "  - `nombre_prueba`: Una cadena de texto que describe la prueba (por ejemplo, \"Peso perdido (%)\").\n",
    "  - `ttest_result`: El resultado de la prueba t de Student, que incluye el estadístico t y el valor p.\n",
    "\n",
    "- **Salida:**\n",
    "  - La función imprime el valor del estadístico t y el valor p con cuatro decimales.\n",
    "  - **Interpretación del valor p:**\n",
    "    - Si el valor p es menor que 0.05, la función concluye que existe una diferencia significativa entre los niveles \"Piso\" y \"Relleno\".\n",
    "    - Si el valor p es mayor o igual a 0.05, la función concluye que no hay una diferencia significativa entre los niveles.\n",
    "\n"
   ]
  },
  {
   "cell_type": "code",
   "execution_count": 9,
   "id": "2e26d68d-27e7-4b85-b505-98c5a5b03977",
   "metadata": {},
   "outputs": [],
   "source": [
    "def interpretar_resultados_ttest(nombre_prueba, ttest_result):\n",
    "    t_statistic = ttest_result.statistic\n",
    "    p_value = ttest_result.pvalue\n",
    "    \n",
    "    print(f\"Resultados de la prueba: {nombre_prueba}\")\n",
    "    print(f\"  - Estadístico t: {t_statistic:.4f}\")\n",
    "    print(f\"  - Valor p: {p_value:.4f}\")\n",
    "    \n",
    "    # Interpretación del valor p\n",
    "    if p_value < 0.05:\n",
    "        print(\"  -> Interpretación: Existe una diferencia estadísticamente significativa entre los niveles 'Piso' y 'Relleno'.\")\n",
    "        print(\"     Esto sugiere que las características analizadas en dichos niveles difieren entre ambos contextos.\")\n",
    "    else:\n",
    "        print(\"  -> Interpretación: No se encontró una diferencia estadísticamente significativa entre los niveles 'Piso' y 'Relleno'.\")\n",
    "        print(\"     Esto sugiere que las características analizadas son similares en ambos contextos.\")\n",
    "    print(\"-\" * 50)\n"
   ]
  },
  {
   "cell_type": "code",
   "execution_count": 10,
   "id": "589c9a94-8cc2-4da9-b63c-7e528098b798",
   "metadata": {},
   "outputs": [
    {
     "name": "stdout",
     "output_type": "stream",
     "text": [
      "Resultados de la prueba: Peso perdido (%)\n",
      "  - Estadístico t: 0.4498\n",
      "  - Valor p: 0.6889\n",
      "  -> Interpretación: No se encontró una diferencia estadísticamente significativa entre los niveles 'Piso' y 'Relleno'.\n",
      "     Esto sugiere que las características analizadas son similares en ambos contextos.\n",
      "--------------------------------------------------\n",
      "Resultados de la prueba: Peso húmedo (g)\n",
      "  - Estadístico t: -0.5468\n",
      "  - Valor p: 0.6182\n",
      "  -> Interpretación: No se encontró una diferencia estadísticamente significativa entre los niveles 'Piso' y 'Relleno'.\n",
      "     Esto sugiere que las características analizadas son similares en ambos contextos.\n",
      "--------------------------------------------------\n",
      "Resultados de la prueba: Peso seco (g)\n",
      "  - Estadístico t: -0.8911\n",
      "  - Valor p: 0.4166\n",
      "  -> Interpretación: No se encontró una diferencia estadísticamente significativa entre los niveles 'Piso' y 'Relleno'.\n",
      "     Esto sugiere que las características analizadas son similares en ambos contextos.\n",
      "--------------------------------------------------\n"
     ]
    }
   ],
   "source": [
    "# Interpretar los resultados de cada prueba t\n",
    "interpretar_resultados_ttest(\"Peso perdido (%)\", ttest_peso_perdido)\n",
    "interpretar_resultados_ttest(\"Peso húmedo (g)\", ttest_peso_humedo)\n",
    "interpretar_resultados_ttest(\"Peso seco (g)\", ttest_peso_seco)"
   ]
  },
  {
   "cell_type": "markdown",
   "id": "237dfcc0-7f50-4e05-b7b2-5e4da81ae49b",
   "metadata": {},
   "source": [
    "# Comparación del Índice Arbóreo/No Arbóreo entre Pisos y Rellenos\n",
    "\n",
    "Este modulo del código realiza una prueba t de Student para comparar el **Índice Arbóreo/No Arbóreo** entre niveles etiquetados como \"Piso\" y \"Relleno\".\n",
    "El objetivo es determinar si existen diferencias significativas que puedan validar si los niveles marcados como \"Piso\" corresponden a verdaderos pisos o no.\n"
   ]
  },
  {
   "cell_type": "code",
   "execution_count": 12,
   "id": "9ce51418-02d7-406f-a011-b15f7fe97395",
   "metadata": {},
   "outputs": [
    {
     "data": {
      "text/plain": [
       "TtestResult(statistic=3.8403873495780663, pvalue=0.0018413168351243292, df=13.819786200337111)"
      ]
     },
     "execution_count": 12,
     "metadata": {},
     "output_type": "execute_result"
    }
   ],
   "source": [
    "data_indice = {\n",
    "    \"Muestra No.\": [\"M1\", \"M2\", \"M3\", \"M4\", \"M5\", \"M6\", \"M7\", \"M8\", \"M9\", \"M10\", \"M11\", \"M12\", \"M13\", \"M14\", \"M15\", \"M16\"],\n",
    "    \"Nivel (cm.b.s.)\": [50, 60, 70, 80, 90, 100, 110, 120, 130, 140, 150, 160, 170, 180, 190, 200],\n",
    "    \"Contexto\": [\"Relleno\", \"Relleno\", \"Relleno\", \"Piso\", \"Relleno\", \"Relleno\", \"Piso\", \"Relleno\", \"Relleno\", \"Relleno\", \"Piso\", \"Relleno\", \"Relleno\", \"Relleno\", \"Relleno\", \"Relleno\"],\n",
    "    \"Índice Arbóreo/ No Arbóreo\": [0.1, 0.1, 0.33, 0.26, 0.09, 0.08, 0.25, 0.09, 0.09, 0.09, 0.22, 0.1, 0.1, 0.12, 0.12, 0.35]\n",
    "}\n",
    "\n",
    "df_indice = pd.DataFrame(data_indice)\n",
    "\n",
    "# Separar los datos en función del contexto (Piso vs Relleno)\n",
    "pisos = df_indice[df_indice[\"Contexto\"] == \"Piso\"]\n",
    "rellenos = df_indice[df_indice[\"Contexto\"] == \"Relleno\"]\n",
    "\n",
    "# Comparar el Índice Arbóreo/ No Arbóreo entre Pisos y Rellenos usando una prueba t de Student\n",
    "ttest_indice = ttest_ind(pisos[\"Índice Arbóreo/ No Arbóreo\"], rellenos[\"Índice Arbóreo/ No Arbóreo\"], equal_var=False)\n",
    "\n",
    "# Mostrar los resultados de la prueba t\n",
    "ttest_indice\n"
   ]
  },
  {
   "cell_type": "code",
   "execution_count": 13,
   "id": "621dd90c-5c49-4e71-b389-169a3d91e50a",
   "metadata": {},
   "outputs": [
    {
     "name": "stdout",
     "output_type": "stream",
     "text": [
      "Resultados de la prueba: Indice arboreo segun tipo de contexto\n",
      "  - Estadístico t: 3.8404\n",
      "  - Valor p: 0.0018\n",
      "  -> Interpretación: Existe una diferencia estadísticamente significativa entre los niveles 'Piso' y 'Relleno'.\n",
      "     Esto sugiere que las características analizadas en dichos niveles difieren entre ambos contextos.\n",
      "--------------------------------------------------\n"
     ]
    }
   ],
   "source": [
    "interpretar_resultados_ttest(\"Indice arboreo segun tipo de contexto\",ttest_indice)"
   ]
  }
 ],
 "metadata": {
  "kernelspec": {
   "display_name": "Python 3 (ipykernel)",
   "language": "python",
   "name": "python3"
  },
  "language_info": {
   "codemirror_mode": {
    "name": "ipython",
    "version": 3
   },
   "file_extension": ".py",
   "mimetype": "text/x-python",
   "name": "python",
   "nbconvert_exporter": "python",
   "pygments_lexer": "ipython3",
   "version": "3.12.3"
  }
 },
 "nbformat": 4,
 "nbformat_minor": 5
}
